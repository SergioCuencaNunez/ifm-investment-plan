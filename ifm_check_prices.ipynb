{
 "cells": [
  {
   "cell_type": "markdown",
   "metadata": {},
   "source": [
    "#  <span style=\"font-family: Latin Modern Roman; font-size: 35px; font-weight: bold;\"> Investment Plan</span>"
   ]
  },
  {
   "cell_type": "markdown",
   "metadata": {},
   "source": [
    "---"
   ]
  },
  {
   "cell_type": "markdown",
   "metadata": {},
   "source": [
    "## <span style=\"font-family: Latin Modern Roman; font-size: 25px;\"> Check Prices for Stocks </span>\n",
    "### <span style=\"font-family: Latin Modern Roman; font-size: 20px;\"> 11/09 - 18/09 & 18/09 - 25/09</span>"
   ]
  },
  {
   "cell_type": "code",
   "execution_count": 12,
   "metadata": {},
   "outputs": [
    {
     "name": "stderr",
     "output_type": "stream",
     "text": [
      "[*********************100%%**********************]  20 of 20 completed\n"
     ]
    }
   ],
   "source": [
    "import yfinance as yf\n",
    "import pandas as pd\n",
    "# List of tickers\n",
    "tickers = [\n",
    "    'ITX.MC', 'IBE.MC', 'SAN.MC', 'AMS.MC', 'AAPL', 'MSFT', 'BNTX', \n",
    "    'PEP', 'TSLA', 'AMZN', 'XOM', 'JPM', 'KO', 'JNJ', 'PG', \n",
    "    'ALV.DE', 'ROG.SW', 'ASML.AS', 'NESN.SW', 'ENR.DE'\n",
    "]\n",
    "\n",
    "# Specify the date for which you want the closing prices\n",
    "start_date = '2024-09-25'\n",
    "\n",
    "# Downloading the closing prices for the tickers on the specified date\n",
    "data = yf.download(tickers, start=start_date)\n",
    "adj_close_prices = data['Adj Close'].loc[start_date].reindex(tickers)\n",
    "adj_close_prices\n",
    "\n",
    "# Creating a DataFrame\n",
    "df = pd.DataFrame({\n",
    "    'Ticker': tickers,\n",
    "    'Adj Close Price': adj_close_prices\n",
    "})\n",
    "\n",
    "# Exporting to Excel\n",
    "file_path = 'ticker_adj_close_prices.xlsx'\n",
    "df.to_excel(file_path, index=False)"
   ]
  },
  {
   "cell_type": "markdown",
   "metadata": {},
   "source": [
    "---"
   ]
  },
  {
   "cell_type": "markdown",
   "metadata": {},
   "source": [
    "### <span style=\"font-family: Latin Modern Roman; font-size: 20px;\"> 25/09 - 02/10 & 02/10 - 09/10 </span>"
   ]
  },
  {
   "cell_type": "code",
   "execution_count": 1,
   "metadata": {},
   "outputs": [
    {
     "name": "stderr",
     "output_type": "stream",
     "text": [
      "[*********************100%%**********************]  21 of 21 completed\n"
     ]
    }
   ],
   "source": [
    "import yfinance as yf\n",
    "import pandas as pd\n",
    "# List of tickers\n",
    "tickers = [\n",
    "    'FDR.MC', 'IBE.MC', 'GRF.MC', 'CLNX.MC', 'AMS.MC', 'AAPL', 'MSFT', 'INTC', \n",
    "    'META', 'TSLA', 'MS', 'VST', 'JPM', 'KO', 'LMT', 'PG', \n",
    "    'ALV.DE', 'DBK.DE', 'ASML.AS', 'TEN.MI', 'ENR.DE'\n",
    "]\n",
    "\n",
    "# Specify the date for which you want the closing prices\n",
    "start_date = '2024-10-09'\n",
    "\n",
    "# Downloading the closing prices for the tickers on the specified date\n",
    "data = yf.download(tickers, start=start_date)\n",
    "adj_close_prices = data['Adj Close'].loc[start_date].reindex(tickers)\n",
    "adj_close_prices\n",
    "\n",
    "# Creating a DataFrame\n",
    "df = pd.DataFrame({\n",
    "    'Ticker': tickers,\n",
    "    'Adj Close Price': adj_close_prices\n",
    "})\n",
    "\n",
    "# Exporting to Excel\n",
    "file_path = 'ticker_adj_close_prices.xlsx'\n",
    "df.to_excel(file_path, index=False)"
   ]
  },
  {
   "cell_type": "markdown",
   "metadata": {},
   "source": [
    "---"
   ]
  }
 ],
 "metadata": {
  "kernelspec": {
   "display_name": "Python 3",
   "language": "python",
   "name": "python3"
  },
  "language_info": {
   "codemirror_mode": {
    "name": "ipython",
    "version": 3
   },
   "file_extension": ".py",
   "mimetype": "text/x-python",
   "name": "python",
   "nbconvert_exporter": "python",
   "pygments_lexer": "ipython3",
   "version": "3.11.9"
  }
 },
 "nbformat": 4,
 "nbformat_minor": 2
}
